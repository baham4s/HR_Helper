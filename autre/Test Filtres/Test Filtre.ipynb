{
 "cells": [
  {
   "cell_type": "code",
   "execution_count": 108,
   "id": "bb981cc7",
   "metadata": {},
   "outputs": [
    {
     "name": "stdout",
     "output_type": "stream",
     "text": [
      "Profil A\n"
     ]
    }
   ],
   "source": [
    "import numpy as np\n",
    "import matplotlib.pyplot as plt\n",
    "from sklearn import datasets\n",
    "from collections import Counter\n",
    "\n",
    "#talend\n",
    "#ou faire Postgre\n",
    "dataProfil = [[\"Profil A\", 5,\"Java\" ,\"Python\", \"C\", \"C++\"],\n",
    "              [\"Profil B\", 3,\"Ruby\" ,\"Haskell\", \"C\", \"Clips\"],\n",
    "              [\"Profil C\", 8,\"Java\" ,\"PHP\", \"HTML\", \"Angular\"],\n",
    "              [\"Profil D\", 7,\"COBOL\" ,\"Python\", \"Javascipt\", \"CSS\"],\n",
    "              [\"Profil E\", 12,\"Pyhthon\" ,\"MySQL\", \"Docker\", \"SQLite\"],\n",
    "              [\"Profil F\", 4,\"HTML\" ,\"CSS\", \"PHP\", \"Angular\"],\n",
    "              [\"Profil G\", 11,\"Pyhthon\" ,\"Java\", \"Ruby\", \"C\"]\n",
    "             ]\n",
    "\n",
    "profilID = []\n",
    "for i in range(len(dataProfil)):\n",
    "    profilID.append(dataProfil[i][0])\n",
    "\n",
    "print(dataProfil[0][0])\n"
   ]
  },
  {
   "cell_type": "code",
   "execution_count": 109,
   "id": "4f2e8d6c",
   "metadata": {},
   "outputs": [
    {
     "name": "stdout",
     "output_type": "stream",
     "text": [
      "['Profil A', 'Profil C', 'Profil C', 'Profil F', 'Profil G']\n"
     ]
    }
   ],
   "source": [
    "# Application du filtre sur un jeu de données\n",
    "def appliquerFiltre(filtre, data):\n",
    "    dataApresFiltre = []\n",
    "    for i in range(len(data)):\n",
    "        for j in range(6):\n",
    "            for k in range(len(filtre)):\n",
    "                if data[i][j] == filtre[k] :\n",
    "                    dataApresFiltre.append(data[i][0])\n",
    "                    \n",
    "    return dataApresFiltre\n",
    "                   \n",
    "filtre1 = [\"Java\",\"Angular\"]\n",
    "                   \n",
    "filterData = appliquerFiltre(filtre1, dataProfil)\n",
    "\n",
    "print(filterData)\n"
   ]
  },
  {
   "cell_type": "code",
   "execution_count": 114,
   "id": "e895f4cc",
   "metadata": {},
   "outputs": [
    {
     "name": "stdout",
     "output_type": "stream",
     "text": [
      "{'Profil A': 1, 'Profil C': 2, 'Profil F': 1, 'Profil G': 1}\n"
     ]
    }
   ],
   "source": [
    "# https://www.cours-gratuit.com/tutoriel-python/tutoriel-python-list-mthode-count \n",
    "def trouverMeilleurProfil(data):\n",
    "    return {k:data.count(k) for k in data}\n",
    "    \n",
    "res = trouverMeilleurProfil(filterData)\n",
    "\n",
    "print(res)"
   ]
  },
  {
   "cell_type": "code",
   "execution_count": null,
   "id": "bffad3d5",
   "metadata": {},
   "outputs": [],
   "source": []
  }
 ],
 "metadata": {
  "kernelspec": {
   "display_name": "Python 3",
   "language": "python",
   "name": "python3"
  },
  "language_info": {
   "codemirror_mode": {
    "name": "ipython",
    "version": 3
   },
   "file_extension": ".py",
   "mimetype": "text/x-python",
   "name": "python",
   "nbconvert_exporter": "python",
   "pygments_lexer": "ipython3",
   "version": "3.8.10"
  }
 },
 "nbformat": 4,
 "nbformat_minor": 5
}